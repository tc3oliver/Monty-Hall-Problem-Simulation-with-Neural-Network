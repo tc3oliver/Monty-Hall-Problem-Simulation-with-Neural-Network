{
 "cells": [
  {
   "cell_type": "code",
   "execution_count": 1,
   "id": "a723fa42",
   "metadata": {},
   "outputs": [
    {
     "name": "stdout",
     "output_type": "stream",
     "text": [
      "Requirement already satisfied: numpy in /Users/nick/miniconda3/envs/jupyter_env/lib/python3.8/site-packages (1.24.3)\n",
      "Requirement already satisfied: tensorflow in /Users/nick/miniconda3/envs/jupyter_env/lib/python3.8/site-packages (2.13.0rc0)\n",
      "Requirement already satisfied: tensorflow-macos==2.13.0-rc0 in /Users/nick/miniconda3/envs/jupyter_env/lib/python3.8/site-packages (from tensorflow) (2.13.0rc0)\n",
      "Requirement already satisfied: typing-extensions>=3.6.6 in /Users/nick/miniconda3/envs/jupyter_env/lib/python3.8/site-packages (from tensorflow-macos==2.13.0-rc0->tensorflow) (4.5.0)\n",
      "Requirement already satisfied: setuptools in /Users/nick/miniconda3/envs/jupyter_env/lib/python3.8/site-packages (from tensorflow-macos==2.13.0-rc0->tensorflow) (66.0.0)\n",
      "Requirement already satisfied: protobuf!=4.21.0,!=4.21.1,!=4.21.2,!=4.21.3,!=4.21.4,!=4.21.5,<5.0.0dev,>=3.20.3 in /Users/nick/miniconda3/envs/jupyter_env/lib/python3.8/site-packages (from tensorflow-macos==2.13.0-rc0->tensorflow) (4.23.1)\n",
      "Requirement already satisfied: keras<2.14,>=2.13.1rc0 in /Users/nick/miniconda3/envs/jupyter_env/lib/python3.8/site-packages (from tensorflow-macos==2.13.0-rc0->tensorflow) (2.13.1rc0)\n",
      "Requirement already satisfied: packaging in /Users/nick/miniconda3/envs/jupyter_env/lib/python3.8/site-packages (from tensorflow-macos==2.13.0-rc0->tensorflow) (23.0)\n",
      "Requirement already satisfied: gast<=0.4.0,>=0.2.1 in /Users/nick/miniconda3/envs/jupyter_env/lib/python3.8/site-packages (from tensorflow-macos==2.13.0-rc0->tensorflow) (0.4.0)\n",
      "Requirement already satisfied: astunparse>=1.6.0 in /Users/nick/miniconda3/envs/jupyter_env/lib/python3.8/site-packages (from tensorflow-macos==2.13.0-rc0->tensorflow) (1.6.3)\n",
      "Requirement already satisfied: tensorflow-estimator<2.14,>=2.13.0rc0 in /Users/nick/miniconda3/envs/jupyter_env/lib/python3.8/site-packages (from tensorflow-macos==2.13.0-rc0->tensorflow) (2.13.0rc0)\n",
      "Requirement already satisfied: libclang>=13.0.0 in /Users/nick/miniconda3/envs/jupyter_env/lib/python3.8/site-packages (from tensorflow-macos==2.13.0-rc0->tensorflow) (16.0.0)\n",
      "Requirement already satisfied: tensorboard<2.14,>=2.13 in /Users/nick/miniconda3/envs/jupyter_env/lib/python3.8/site-packages (from tensorflow-macos==2.13.0-rc0->tensorflow) (2.13.0)\n",
      "Requirement already satisfied: numpy>=1.22 in /Users/nick/miniconda3/envs/jupyter_env/lib/python3.8/site-packages (from tensorflow-macos==2.13.0-rc0->tensorflow) (1.24.3)\n",
      "Requirement already satisfied: opt-einsum>=2.3.2 in /Users/nick/miniconda3/envs/jupyter_env/lib/python3.8/site-packages (from tensorflow-macos==2.13.0-rc0->tensorflow) (3.3.0)\n",
      "Requirement already satisfied: six>=1.12.0 in /Users/nick/miniconda3/envs/jupyter_env/lib/python3.8/site-packages (from tensorflow-macos==2.13.0-rc0->tensorflow) (1.16.0)\n",
      "Requirement already satisfied: absl-py>=1.0.0 in /Users/nick/miniconda3/envs/jupyter_env/lib/python3.8/site-packages (from tensorflow-macos==2.13.0-rc0->tensorflow) (1.4.0)\n",
      "Requirement already satisfied: termcolor>=1.1.0 in /Users/nick/miniconda3/envs/jupyter_env/lib/python3.8/site-packages (from tensorflow-macos==2.13.0-rc0->tensorflow) (2.3.0)\n",
      "Requirement already satisfied: grpcio<2.0,>=1.24.3 in /Users/nick/miniconda3/envs/jupyter_env/lib/python3.8/site-packages (from tensorflow-macos==2.13.0-rc0->tensorflow) (1.54.2)\n",
      "Requirement already satisfied: wrapt<1.15,>=1.11.0 in /Users/nick/miniconda3/envs/jupyter_env/lib/python3.8/site-packages (from tensorflow-macos==2.13.0-rc0->tensorflow) (1.14.1)\n",
      "Requirement already satisfied: flatbuffers>=23.1.21 in /Users/nick/miniconda3/envs/jupyter_env/lib/python3.8/site-packages (from tensorflow-macos==2.13.0-rc0->tensorflow) (23.5.9)\n",
      "Requirement already satisfied: h5py>=2.9.0 in /Users/nick/miniconda3/envs/jupyter_env/lib/python3.8/site-packages (from tensorflow-macos==2.13.0-rc0->tensorflow) (3.8.0)\n",
      "Requirement already satisfied: google-pasta>=0.1.1 in /Users/nick/miniconda3/envs/jupyter_env/lib/python3.8/site-packages (from tensorflow-macos==2.13.0-rc0->tensorflow) (0.2.0)\n",
      "Requirement already satisfied: wheel<1.0,>=0.23.0 in /Users/nick/miniconda3/envs/jupyter_env/lib/python3.8/site-packages (from astunparse>=1.6.0->tensorflow-macos==2.13.0-rc0->tensorflow) (0.38.4)\n",
      "Requirement already satisfied: requests<3,>=2.21.0 in /Users/nick/miniconda3/envs/jupyter_env/lib/python3.8/site-packages (from tensorboard<2.14,>=2.13->tensorflow-macos==2.13.0-rc0->tensorflow) (2.29.0)\n",
      "Requirement already satisfied: tensorboard-data-server<0.8.0,>=0.7.0 in /Users/nick/miniconda3/envs/jupyter_env/lib/python3.8/site-packages (from tensorboard<2.14,>=2.13->tensorflow-macos==2.13.0-rc0->tensorflow) (0.7.0)\n",
      "Requirement already satisfied: google-auth-oauthlib<1.1,>=0.5 in /Users/nick/miniconda3/envs/jupyter_env/lib/python3.8/site-packages (from tensorboard<2.14,>=2.13->tensorflow-macos==2.13.0-rc0->tensorflow) (1.0.0)\n",
      "Requirement already satisfied: google-auth<3,>=1.6.3 in /Users/nick/miniconda3/envs/jupyter_env/lib/python3.8/site-packages (from tensorboard<2.14,>=2.13->tensorflow-macos==2.13.0-rc0->tensorflow) (2.18.1)\n",
      "Requirement already satisfied: markdown>=2.6.8 in /Users/nick/miniconda3/envs/jupyter_env/lib/python3.8/site-packages (from tensorboard<2.14,>=2.13->tensorflow-macos==2.13.0-rc0->tensorflow) (3.4.3)\n",
      "Requirement already satisfied: werkzeug>=1.0.1 in /Users/nick/.local/lib/python3.8/site-packages (from tensorboard<2.14,>=2.13->tensorflow-macos==2.13.0-rc0->tensorflow) (2.0.3)\n",
      "Requirement already satisfied: urllib3<2.0 in /Users/nick/miniconda3/envs/jupyter_env/lib/python3.8/site-packages (from google-auth<3,>=1.6.3->tensorboard<2.14,>=2.13->tensorflow-macos==2.13.0-rc0->tensorflow) (1.26.15)\n",
      "Requirement already satisfied: rsa<5,>=3.1.4 in /Users/nick/miniconda3/envs/jupyter_env/lib/python3.8/site-packages (from google-auth<3,>=1.6.3->tensorboard<2.14,>=2.13->tensorflow-macos==2.13.0-rc0->tensorflow) (4.9)\n",
      "Requirement already satisfied: pyasn1-modules>=0.2.1 in /Users/nick/miniconda3/envs/jupyter_env/lib/python3.8/site-packages (from google-auth<3,>=1.6.3->tensorboard<2.14,>=2.13->tensorflow-macos==2.13.0-rc0->tensorflow) (0.3.0)\n",
      "Requirement already satisfied: cachetools<6.0,>=2.0.0 in /Users/nick/miniconda3/envs/jupyter_env/lib/python3.8/site-packages (from google-auth<3,>=1.6.3->tensorboard<2.14,>=2.13->tensorflow-macos==2.13.0-rc0->tensorflow) (5.3.0)\n",
      "Requirement already satisfied: requests-oauthlib>=0.7.0 in /Users/nick/miniconda3/envs/jupyter_env/lib/python3.8/site-packages (from google-auth-oauthlib<1.1,>=0.5->tensorboard<2.14,>=2.13->tensorflow-macos==2.13.0-rc0->tensorflow) (1.3.1)\n",
      "Requirement already satisfied: importlib-metadata>=4.4 in /Users/nick/miniconda3/envs/jupyter_env/lib/python3.8/site-packages (from markdown>=2.6.8->tensorboard<2.14,>=2.13->tensorflow-macos==2.13.0-rc0->tensorflow) (6.0.0)\n",
      "Requirement already satisfied: idna<4,>=2.5 in /Users/nick/miniconda3/envs/jupyter_env/lib/python3.8/site-packages (from requests<3,>=2.21.0->tensorboard<2.14,>=2.13->tensorflow-macos==2.13.0-rc0->tensorflow) (3.4)\n",
      "Requirement already satisfied: certifi>=2017.4.17 in /Users/nick/miniconda3/envs/jupyter_env/lib/python3.8/site-packages (from requests<3,>=2.21.0->tensorboard<2.14,>=2.13->tensorflow-macos==2.13.0-rc0->tensorflow) (2023.5.7)\n",
      "Requirement already satisfied: charset-normalizer<4,>=2 in /Users/nick/miniconda3/envs/jupyter_env/lib/python3.8/site-packages (from requests<3,>=2.21.0->tensorboard<2.14,>=2.13->tensorflow-macos==2.13.0-rc0->tensorflow) (2.0.4)\n",
      "Requirement already satisfied: zipp>=0.5 in /Users/nick/miniconda3/envs/jupyter_env/lib/python3.8/site-packages (from importlib-metadata>=4.4->markdown>=2.6.8->tensorboard<2.14,>=2.13->tensorflow-macos==2.13.0-rc0->tensorflow) (3.11.0)\n",
      "Requirement already satisfied: pyasn1<0.6.0,>=0.4.6 in /Users/nick/miniconda3/envs/jupyter_env/lib/python3.8/site-packages (from pyasn1-modules>=0.2.1->google-auth<3,>=1.6.3->tensorboard<2.14,>=2.13->tensorflow-macos==2.13.0-rc0->tensorflow) (0.5.0)\n",
      "Requirement already satisfied: oauthlib>=3.0.0 in /Users/nick/miniconda3/envs/jupyter_env/lib/python3.8/site-packages (from requests-oauthlib>=0.7.0->google-auth-oauthlib<1.1,>=0.5->tensorboard<2.14,>=2.13->tensorflow-macos==2.13.0-rc0->tensorflow) (3.2.2)\n"
     ]
    }
   ],
   "source": [
    "!pip install numpy \n",
    "!pip install tensorflow"
   ]
  },
  {
   "cell_type": "code",
   "execution_count": 2,
   "id": "23568fac",
   "metadata": {},
   "outputs": [],
   "source": [
    "import random\n",
    "\n",
    "def open_door(player_choice, car_location):\n",
    "    # The host opens a door with a goat\n",
    "    # The host cannot open the door chosen by the player or the door with the car\n",
    "    if player_choice == car_location:\n",
    "        # If the player's initial choice is the door with the car, randomly open one of the other two doors\n",
    "        opened_door = random.choice([door for door in range(1, 4) if door != player_choice])\n",
    "    else:\n",
    "        # If the player's initial choice is a door with a goat, the host opens the remaining door with a goat\n",
    "        opened_door = [door for door in range(1, 4) if door != player_choice and door != car_location][0]\n",
    "    return opened_door\n",
    "\n",
    "def simulate_three_door_problem(switch_door): \n",
    "    # Simulate the three-door problem, switch_door indicates whether to switch doors\n",
    "    # Randomly choose a door as the player's initial choice\n",
    "    player_choice = random.randint(1, 3)  \n",
    "\n",
    "    # The location of the car is also random\n",
    "    car_location = random.randint(1, 3)  \n",
    "\n",
    "    # Open a door with a goat\n",
    "    opened_door = open_door(player_choice, car_location)\n",
    "\n",
    "    # Make the final choice based on whether to switch doors\n",
    "    if switch_door: \n",
    "        player_choice = [door for door in range(1, 4) if door != player_choice and door != opened_door][0]\n",
    "\n",
    "    # Check if the final choice wins (i.e., choosing the door with the car)\n",
    "    win = (player_choice == car_location)\n",
    "\n",
    "    # Output the result\n",
    "    if win:\n",
    "        return 1\n",
    "    else:\n",
    "        return 0"
   ]
  },
  {
   "cell_type": "code",
   "execution_count": 3,
   "id": "18b58f4d",
   "metadata": {},
   "outputs": [
    {
     "name": "stdout",
     "output_type": "stream",
     "text": [
      "Winning rate with switching doors: 0.66707\n"
     ]
    }
   ],
   "source": [
    "# Record the results of multiple simulations\n",
    "results = []\n",
    "for i in range(100000):  # Simulate 100,000 times\n",
    "    results.append(simulate_three_door_problem(True))\n",
    "\n",
    "# Calculate the winning rate\n",
    "win_rate = sum(results) / len(results)\n",
    "print(f\"Winning rate with switching doors: {win_rate}\")"
   ]
  },
  {
   "cell_type": "code",
   "execution_count": 4,
   "id": "713a268d",
   "metadata": {},
   "outputs": [
    {
     "name": "stdout",
     "output_type": "stream",
     "text": [
      "Epoch 1/10\n",
      "3125/3125 [==============================] - 1s 411us/step - loss: 0.6429 - accuracy: 0.6629\n",
      "Epoch 2/10\n",
      "3125/3125 [==============================] - 1s 380us/step - loss: 0.6380 - accuracy: 0.6652\n",
      "Epoch 3/10\n",
      "3125/3125 [==============================] - 1s 374us/step - loss: 0.6378 - accuracy: 0.6652\n",
      "Epoch 4/10\n",
      "3125/3125 [==============================] - 1s 377us/step - loss: 0.6378 - accuracy: 0.6652\n",
      "Epoch 5/10\n",
      "3125/3125 [==============================] - 1s 369us/step - loss: 0.6378 - accuracy: 0.6652\n",
      "Epoch 6/10\n",
      "3125/3125 [==============================] - 1s 377us/step - loss: 0.6378 - accuracy: 0.6652\n",
      "Epoch 7/10\n",
      "3125/3125 [==============================] - 1s 371us/step - loss: 0.6377 - accuracy: 0.6652\n",
      "Epoch 8/10\n",
      "3125/3125 [==============================] - 1s 379us/step - loss: 0.6378 - accuracy: 0.6652\n",
      "Epoch 9/10\n",
      "3125/3125 [==============================] - 1s 396us/step - loss: 0.6378 - accuracy: 0.6652\n",
      "Epoch 10/10\n",
      "3125/3125 [==============================] - 1s 388us/step - loss: 0.6378 - accuracy: 0.6652\n"
     ]
    },
    {
     "data": {
      "text/plain": [
       "<keras.src.callbacks.History at 0x1773b4880>"
      ]
     },
     "execution_count": 4,
     "metadata": {},
     "output_type": "execute_result"
    }
   ],
   "source": [
    "import numpy as np\n",
    "import tensorflow as tf\n",
    "from tensorflow.keras.models import Sequential\n",
    "from tensorflow.keras.layers import Dense\n",
    "\n",
    "# Collect training data\n",
    "data = []\n",
    "for i in range(100000):\n",
    "    player_choice = np.random.randint(1, 3)\n",
    "    car_location = np.random.randint(1, 3)\n",
    "    switch_door = np.random.choice([0, 1])\n",
    "    if switch_door:\n",
    "        player_choice = [c for c in range(1, 4) if c != player_choice][0]\n",
    "    result = simulate_three_door_problem(switch_door)\n",
    "    data.append([player_choice, car_location, switch_door, result])\n",
    "\n",
    "# Build and train the network\n",
    "model = Sequential()\n",
    "model.add(Dense(10, input_dim=3, activation='relu'))\n",
    "model.add(Dense(1, activation='sigmoid'))\n",
    "model.compile(loss='binary_crossentropy',\n",
    "              optimizer='adam',\n",
    "              metrics=['accuracy'])\n",
    "model.fit(np.array(data)[:,:3], np.array(data)[:,-1], epochs=10)"
   ]
  },
  {
   "cell_type": "code",
   "execution_count": 5,
   "id": "6b3565b2",
   "metadata": {},
   "outputs": [
    {
     "name": "stdout",
     "output_type": "stream",
     "text": [
      "1/1 [==============================] - 0s 33ms/step\n",
      "Winning probability with switching doors: 0.65724\n",
      "1/1 [==============================] - 0s 10ms/step\n",
      "Winning probability without switching doors: 0.34175\n"
     ]
    }
   ],
   "source": [
    "# Predict new input data with switching doors\n",
    "test_data_switch_door = [1, 3, 1]\n",
    "pred = model.predict(np.array([test_data_switch_door]))\n",
    "print(f\"Winning probability with switching doors: {pred[0][0]:.5f}\")\n",
    "\n",
    "# Predict new input data without switching doors\n",
    "test_data_no_switch_door = [1, 3, 0]\n",
    "pred = model.predict(np.array([test_data_no_switch_door]))\n",
    "print(f\"Winning probability without switching doors: {pred[0][0]:.5f}\")"
   ]
  }
 ],
 "metadata": {
  "kernelspec": {
   "display_name": "Python 3 (ipykernel)",
   "language": "python",
   "name": "python3"
  },
  "language_info": {
   "codemirror_mode": {
    "name": "ipython",
    "version": 3
   },
   "file_extension": ".py",
   "mimetype": "text/x-python",
   "name": "python",
   "nbconvert_exporter": "python",
   "pygments_lexer": "ipython3",
   "version": "3.8.16"
  }
 },
 "nbformat": 4,
 "nbformat_minor": 5
}
